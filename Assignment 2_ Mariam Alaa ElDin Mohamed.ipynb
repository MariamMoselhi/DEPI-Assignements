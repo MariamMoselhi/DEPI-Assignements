{
 "cells": [
  {
   "cell_type": "markdown",
   "metadata": {},
   "source": [
    "# Mariam Alaa ElDin                                                                           Assignment 2"
   ]
  },
  {
   "cell_type": "markdown",
   "metadata": {},
   "source": [
    "# Q1"
   ]
  },
  {
   "cell_type": "code",
   "execution_count": 1,
   "metadata": {},
   "outputs": [
    {
     "name": "stdout",
     "output_type": "stream",
     "text": [
      "[3, 1, 4, 2, 5, 0]\n",
      "[0, 1, 2, 3, 4, 5]\n"
     ]
    }
   ],
   "source": [
    "list1 = [3, 1, 4]\n",
    "list2 = [2, 5, 0]\n",
    "#soln 1\n",
    "# list3=list1+list2\n",
    "\n",
    "# list3=sorted(list3)\n",
    "# list3\n",
    "\n",
    "#soln 2\n",
    "list1.extend(list2)\n",
    "print(list1)\n",
    "def sort_list(list1):\n",
    "    for i in range(len(list1)):\n",
    "        for j in  range(len(list1)-1-i):\n",
    "            if list1[j] > list1[j+1]:\n",
    "                list1[j], list1[j+1] = list1[j+1],list1[j]\n",
    "    print(list1)\n",
    "    \n",
    "sort_list(list1)\n",
    "    "
   ]
  },
  {
   "cell_type": "markdown",
   "metadata": {},
   "source": [
    "# Q2"
   ]
  },
  {
   "cell_type": "code",
   "execution_count": 2,
   "metadata": {},
   "outputs": [
    {
     "name": "stdout",
     "output_type": "stream",
     "text": [
      "aaabbbccc\n"
     ]
    }
   ],
   "source": [
    "def repeat_chars(s, n):\n",
    "    result = \"\"\n",
    "    for char in s:\n",
    "        result += char * n\n",
    "    return result\n",
    "\n",
    "\n",
    "s = \"abc\"\n",
    "print(repeat_chars(s, 3))"
   ]
  },
  {
   "cell_type": "code",
   "execution_count": null,
   "metadata": {},
   "outputs": [],
   "source": []
  }
 ],
 "metadata": {
  "kernelspec": {
   "display_name": "Python 3",
   "language": "python",
   "name": "python3"
  },
  "language_info": {
   "codemirror_mode": {
    "name": "ipython",
    "version": 3
   },
   "file_extension": ".py",
   "mimetype": "text/x-python",
   "name": "python",
   "nbconvert_exporter": "python",
   "pygments_lexer": "ipython3",
   "version": "3.8.5"
  }
 },
 "nbformat": 4,
 "nbformat_minor": 4
}
